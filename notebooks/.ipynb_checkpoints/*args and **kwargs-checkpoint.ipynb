{
 "cells": [
  {
   "cell_type": "markdown",
   "metadata": {},
   "source": [
    "# \\*args and \\*\\*kwargs"
   ]
  },
  {
   "cell_type": "markdown",
   "metadata": {},
   "source": [
    "## 1. \\*args"
   ]
  },
  {
   "cell_type": "markdown",
   "metadata": {},
   "source": [
    "\\*args and \\*\\*kwargs look cryptic and probably scary, but it's really easy to understand"
   ]
  },
  {
   "cell_type": "code",
   "execution_count": 11,
   "metadata": {},
   "outputs": [
    {
     "name": "stdout",
     "output_type": "stream",
     "text": [
      "(1, 2, 3, 4, 5)\n"
     ]
    }
   ],
   "source": [
    "# *args allow you to define a variadic function (i.e. a function that accepts any number of arguments)\n",
    "\n",
    "def demo(*args):\n",
    "    print(args) # the arguments are collected is a tuple\n",
    "    \n",
    "demo(1,2,3,4,5)"
   ]
  },
  {
   "cell_type": "code",
   "execution_count": 12,
   "metadata": {},
   "outputs": [
    {
     "name": "stdout",
     "output_type": "stream",
     "text": [
      "(1, 2, 3, 4, 5)\n"
     ]
    }
   ],
   "source": [
    "# you can call it args anything you like! the special behaviour comes from the asterisk (*) not the word 'args'\n",
    "def demo(*whatever):\n",
    "    print(whatever)\n",
    "    \n",
    "demo(1,2,3,4,5)"
   ]
  },
  {
   "cell_type": "code",
   "execution_count": 13,
   "metadata": {},
   "outputs": [
    {
     "data": {
      "text/plain": [
       "15"
      ]
     },
     "execution_count": 13,
     "metadata": {},
     "output_type": "execute_result"
    }
   ],
   "source": [
    "def add(*args):\n",
    "    total = 0\n",
    "    for arg in args:  # because args is a tuple, we can iterate over it\n",
    "        total += arg\n",
    "        \n",
    "    return total\n",
    "\n",
    "add(1,2,3,4,5)"
   ]
  },
  {
   "cell_type": "markdown",
   "metadata": {},
   "source": [
    "## 2. \\*\\*kwargs"
   ]
  },
  {
   "cell_type": "markdown",
   "metadata": {},
   "source": [
    "We can extend everything that we've just learned above to keyword arguments (i.e. named arguments)"
   ]
  },
  {
   "cell_type": "code",
   "execution_count": 15,
   "metadata": {},
   "outputs": [
    {
     "name": "stdout",
     "output_type": "stream",
     "text": [
      "{'a': 1, 'b': 2, 'whatever': 3}\n"
     ]
    }
   ],
   "source": [
    "def demo(**kwargs):\n",
    "    print(kwargs)\n",
    "    \n",
    "demo(a=1, b=2, whatever=3)"
   ]
  },
  {
   "cell_type": "markdown",
   "metadata": {},
   "source": [
    "As you can see above, `kwargs` is a dictionary. It contains the named function parameters supplied to the function when the function is called"
   ]
  },
  {
   "cell_type": "markdown",
   "metadata": {},
   "source": [
    "Let's see an example that uses kwargs"
   ]
  },
  {
   "cell_type": "code",
   "execution_count": 60,
   "metadata": {},
   "outputs": [],
   "source": [
    "def pretty_print(msg, **kwargs):\n",
    "    symbol = kwargs.get('symbol', '.') # default to '.' if no symbol is provided\n",
    "    no_of_lines = kwargs.get('no_of_lines', 3)\n",
    "    print(symbol * no_of_lines)\n",
    "    print(msg)\n",
    "    print(symbol * no_of_lines)"
   ]
  },
  {
   "cell_type": "code",
   "execution_count": 63,
   "metadata": {},
   "outputs": [
    {
     "name": "stdout",
     "output_type": "stream",
     "text": [
      "///////////////\n",
      "goodbye world\n",
      "///////////////\n"
     ]
    }
   ],
   "source": [
    "pretty_print('hello world', symbol='/', no_of_lines=15)"
   ]
  },
  {
   "cell_type": "code",
   "execution_count": 65,
   "metadata": {},
   "outputs": [
    {
     "name": "stdout",
     "output_type": "stream",
     "text": [
      "***\n",
      "goodbye world\n",
      "***\n"
     ]
    }
   ],
   "source": [
    "pretty_print('goodbye world', symbol='*')"
   ]
  },
  {
   "cell_type": "markdown",
   "metadata": {},
   "source": [
    "### Using \\*args and \\*\\*kwargs together to define generic functions"
   ]
  },
  {
   "cell_type": "markdown",
   "metadata": {},
   "source": [
    "`\\*args` and `\\*\\*kwargs` are useful when you don't know how many arguments will be supplied to a function. This is common when you're defining a generic function (e.g. decorators). See the notebook on `decorators` for an example of this."
   ]
  },
  {
   "cell_type": "code",
   "execution_count": null,
   "metadata": {},
   "outputs": [],
   "source": []
  }
 ],
 "metadata": {
  "kernelspec": {
   "display_name": ".level-up-python",
   "language": "python",
   "name": ".level-up-python"
  },
  "language_info": {
   "codemirror_mode": {
    "name": "ipython",
    "version": 3
   },
   "file_extension": ".py",
   "mimetype": "text/x-python",
   "name": "python",
   "nbconvert_exporter": "python",
   "pygments_lexer": "ipython3",
   "version": "3.7.0"
  }
 },
 "nbformat": 4,
 "nbformat_minor": 2
}

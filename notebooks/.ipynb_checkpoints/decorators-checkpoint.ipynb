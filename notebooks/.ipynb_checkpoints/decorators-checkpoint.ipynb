{
 "cells": [
  {
   "cell_type": "markdown",
   "metadata": {},
   "source": [
    "# Decorators"
   ]
  },
  {
   "cell_type": "markdown",
   "metadata": {},
   "source": [
    "A decorator is simply a **function** that:\n",
    "1. takes in a function (let's call it `some_func`),\n",
    "2. defines another wrapper function to: \n",
    "    1. do some specific thing (e.g. a @log decorator would probably do some logging),\n",
    "    2. execute the function (`some_func()`)\n",
    "3. returns the wrapper unction"
   ]
  },
  {
   "cell_type": "markdown",
   "metadata": {},
   "source": [
    "### How to define a decorator"
   ]
  },
  {
   "cell_type": "code",
   "execution_count": 45,
   "metadata": {},
   "outputs": [],
   "source": [
    "def log_function_call(func):\n",
    "    print('applying @log_function_call decorator')\n",
    "    \n",
    "    def wrapper(*args, **kwargs):\n",
    "        print('logging this function call!')\n",
    "        return func(*args, **kwargs)  # call the decorated function with any number of args/keyword args passed to it\n",
    "\n",
    "    return wrapper"
   ]
  },
  {
   "cell_type": "code",
   "execution_count": 46,
   "metadata": {},
   "outputs": [
    {
     "name": "stdout",
     "output_type": "stream",
     "text": [
      "INFO: applying @log_function_call decorator\n"
     ]
    }
   ],
   "source": [
    "@log_function_call\n",
    "def add(a, b):\n",
    "    return a + b"
   ]
  },
  {
   "cell_type": "code",
   "execution_count": 42,
   "metadata": {},
   "outputs": [
    {
     "name": "stdout",
     "output_type": "stream",
     "text": [
      "logging this function call!\n"
     ]
    },
    {
     "data": {
      "text/plain": [
       "3"
      ]
     },
     "execution_count": 42,
     "metadata": {},
     "output_type": "execute_result"
    }
   ],
   "source": [
    "add(1, b=2)"
   ]
  },
  {
   "cell_type": "markdown",
   "metadata": {},
   "source": [
    "### How to define a decorator that accepts arguments"
   ]
  },
  {
   "cell_type": "code",
   "execution_count": 54,
   "metadata": {},
   "outputs": [],
   "source": [
    "def log_with_arguments(input1, input2):\n",
    "    print('do stuff with', input1, input2)\n",
    "    \n",
    "    # this part is the same as above\n",
    "    def log_function_call(func):\n",
    "        print('applying @log_function_call decorator')\n",
    "\n",
    "        def wrapper(*args, **kwargs):\n",
    "            print('logging this function call!')\n",
    "            return func(*args, **kwargs)\n",
    "\n",
    "        return wrapper\n",
    "    return log_function_call"
   ]
  },
  {
   "cell_type": "code",
   "execution_count": 55,
   "metadata": {},
   "outputs": [
    {
     "name": "stdout",
     "output_type": "stream",
     "text": [
      "do stuff with abc def\n",
      "applying @log_function_call decorator\n"
     ]
    }
   ],
   "source": [
    "@log_with_arguments('abc', 'def')\n",
    "def add(a, b):\n",
    "    return a + b"
   ]
  }
 ],
 "metadata": {
  "kernelspec": {
   "display_name": ".level-up-python",
   "language": "python",
   "name": ".level-up-python"
  },
  "language_info": {
   "codemirror_mode": {
    "name": "ipython",
    "version": 3
   },
   "file_extension": ".py",
   "mimetype": "text/x-python",
   "name": "python",
   "nbconvert_exporter": "python",
   "pygments_lexer": "ipython3",
   "version": "3.7.0"
  }
 },
 "nbformat": 4,
 "nbformat_minor": 2
}
